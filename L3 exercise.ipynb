{
 "cells": [
  {
   "cell_type": "code",
   "execution_count": 32,
   "id": "e1a21c0b",
   "metadata": {},
   "outputs": [],
   "source": [
    "import numpy as np\n",
    "import pandas as pd\n",
    "import matplotlib.pyplot as plt\n",
    "import seaborn as sns\n",
    "\n",
    "# import decision boundary\n",
    "from mlxtend.plotting import plot_decision_regions\n",
    "\n",
    "# set the theme\n",
    "sns.set_theme()"
   ]
  },
  {
   "cell_type": "code",
   "execution_count": 33,
   "id": "74053785",
   "metadata": {},
   "outputs": [],
   "source": [
    "# read the data\n",
    "df = pd.read_csv(\"/Users/bb/Desktop/2022spring/577/jupter/dataset/iris_dataset.csv\")"
   ]
  },
  {
   "cell_type": "code",
   "execution_count": 34,
   "id": "903934bc",
   "metadata": {},
   "outputs": [
    {
     "data": {
      "text/html": [
       "<div>\n",
       "<style scoped>\n",
       "    .dataframe tbody tr th:only-of-type {\n",
       "        vertical-align: middle;\n",
       "    }\n",
       "\n",
       "    .dataframe tbody tr th {\n",
       "        vertical-align: top;\n",
       "    }\n",
       "\n",
       "    .dataframe thead th {\n",
       "        text-align: right;\n",
       "    }\n",
       "</style>\n",
       "<table border=\"1\" class=\"dataframe\">\n",
       "  <thead>\n",
       "    <tr style=\"text-align: right;\">\n",
       "      <th></th>\n",
       "      <th>sepal_length</th>\n",
       "      <th>sepal_width</th>\n",
       "      <th>petal_length</th>\n",
       "      <th>petal_width</th>\n",
       "      <th>species</th>\n",
       "    </tr>\n",
       "  </thead>\n",
       "  <tbody>\n",
       "    <tr>\n",
       "      <th>0</th>\n",
       "      <td>5.1</td>\n",
       "      <td>3.5</td>\n",
       "      <td>1.4</td>\n",
       "      <td>0.2</td>\n",
       "      <td>setosa</td>\n",
       "    </tr>\n",
       "    <tr>\n",
       "      <th>1</th>\n",
       "      <td>4.9</td>\n",
       "      <td>3.0</td>\n",
       "      <td>1.4</td>\n",
       "      <td>0.2</td>\n",
       "      <td>setosa</td>\n",
       "    </tr>\n",
       "    <tr>\n",
       "      <th>2</th>\n",
       "      <td>4.7</td>\n",
       "      <td>3.2</td>\n",
       "      <td>1.3</td>\n",
       "      <td>0.2</td>\n",
       "      <td>setosa</td>\n",
       "    </tr>\n",
       "    <tr>\n",
       "      <th>3</th>\n",
       "      <td>4.6</td>\n",
       "      <td>3.1</td>\n",
       "      <td>1.5</td>\n",
       "      <td>0.2</td>\n",
       "      <td>setosa</td>\n",
       "    </tr>\n",
       "    <tr>\n",
       "      <th>4</th>\n",
       "      <td>5.0</td>\n",
       "      <td>3.6</td>\n",
       "      <td>1.4</td>\n",
       "      <td>0.2</td>\n",
       "      <td>setosa</td>\n",
       "    </tr>\n",
       "    <tr>\n",
       "      <th>...</th>\n",
       "      <td>...</td>\n",
       "      <td>...</td>\n",
       "      <td>...</td>\n",
       "      <td>...</td>\n",
       "      <td>...</td>\n",
       "    </tr>\n",
       "    <tr>\n",
       "      <th>95</th>\n",
       "      <td>5.7</td>\n",
       "      <td>3.0</td>\n",
       "      <td>4.2</td>\n",
       "      <td>1.2</td>\n",
       "      <td>versicolor</td>\n",
       "    </tr>\n",
       "    <tr>\n",
       "      <th>96</th>\n",
       "      <td>5.7</td>\n",
       "      <td>2.9</td>\n",
       "      <td>4.2</td>\n",
       "      <td>1.3</td>\n",
       "      <td>versicolor</td>\n",
       "    </tr>\n",
       "    <tr>\n",
       "      <th>97</th>\n",
       "      <td>6.2</td>\n",
       "      <td>2.9</td>\n",
       "      <td>4.3</td>\n",
       "      <td>1.3</td>\n",
       "      <td>versicolor</td>\n",
       "    </tr>\n",
       "    <tr>\n",
       "      <th>98</th>\n",
       "      <td>5.1</td>\n",
       "      <td>2.5</td>\n",
       "      <td>3.0</td>\n",
       "      <td>1.1</td>\n",
       "      <td>versicolor</td>\n",
       "    </tr>\n",
       "    <tr>\n",
       "      <th>99</th>\n",
       "      <td>5.7</td>\n",
       "      <td>2.8</td>\n",
       "      <td>4.1</td>\n",
       "      <td>1.3</td>\n",
       "      <td>versicolor</td>\n",
       "    </tr>\n",
       "  </tbody>\n",
       "</table>\n",
       "<p>100 rows × 5 columns</p>\n",
       "</div>"
      ],
      "text/plain": [
       "    sepal_length  sepal_width  petal_length  petal_width     species\n",
       "0            5.1          3.5           1.4          0.2      setosa\n",
       "1            4.9          3.0           1.4          0.2      setosa\n",
       "2            4.7          3.2           1.3          0.2      setosa\n",
       "3            4.6          3.1           1.5          0.2      setosa\n",
       "4            5.0          3.6           1.4          0.2      setosa\n",
       "..           ...          ...           ...          ...         ...\n",
       "95           5.7          3.0           4.2          1.2  versicolor\n",
       "96           5.7          2.9           4.2          1.3  versicolor\n",
       "97           6.2          2.9           4.3          1.3  versicolor\n",
       "98           5.1          2.5           3.0          1.1  versicolor\n",
       "99           5.7          2.8           4.1          1.3  versicolor\n",
       "\n",
       "[100 rows x 5 columns]"
      ]
     },
     "execution_count": 34,
     "metadata": {},
     "output_type": "execute_result"
    }
   ],
   "source": [
    "# preview the data\n",
    "df.iloc[0:100]"
   ]
  },
  {
   "cell_type": "code",
   "execution_count": 35,
   "id": "a4f29305",
   "metadata": {},
   "outputs": [
    {
     "data": {
      "text/plain": [
       "array([ 1,  1,  1,  1,  1,  1,  1,  1,  1,  1,  1,  1,  1,  1,  1,  1,  1,\n",
       "        1,  1,  1,  1,  1,  1,  1,  1,  1,  1,  1,  1,  1,  1,  1,  1,  1,\n",
       "        1,  1,  1,  1,  1,  1,  1,  1,  1,  1,  1,  1,  1,  1,  1,  1, -1,\n",
       "       -1, -1, -1, -1, -1, -1, -1, -1, -1, -1, -1, -1, -1, -1, -1, -1, -1,\n",
       "       -1, -1, -1, -1, -1, -1, -1, -1, -1, -1, -1, -1, -1, -1, -1, -1, -1,\n",
       "       -1, -1, -1, -1, -1, -1, -1, -1, -1, -1, -1, -1, -1, -1, -1])"
      ]
     },
     "execution_count": 35,
     "metadata": {},
     "output_type": "execute_result"
    }
   ],
   "source": [
    "# set y\n",
    "y = df.iloc[0:100].species.values\n",
    "# assgin 1 and -1 to represent species\n",
    "y = np.where(y==\"setosa\", 1, -1)\n",
    "y"
   ]
  },
  {
   "cell_type": "code",
   "execution_count": 36,
   "id": "870121d7",
   "metadata": {},
   "outputs": [
    {
     "data": {
      "text/plain": [
       "array([[5.1, 3.5],\n",
       "       [4.9, 3. ],\n",
       "       [4.7, 3.2],\n",
       "       [4.6, 3.1],\n",
       "       [5. , 3.6],\n",
       "       [5.4, 3.9],\n",
       "       [4.6, 3.4],\n",
       "       [5. , 3.4],\n",
       "       [4.4, 2.9],\n",
       "       [4.9, 3.1],\n",
       "       [5.4, 3.7],\n",
       "       [4.8, 3.4],\n",
       "       [4.8, 3. ],\n",
       "       [4.3, 3. ],\n",
       "       [5.8, 4. ],\n",
       "       [5.7, 4.4],\n",
       "       [5.4, 3.9],\n",
       "       [5.1, 3.5],\n",
       "       [5.7, 3.8],\n",
       "       [5.1, 3.8],\n",
       "       [5.4, 3.4],\n",
       "       [5.1, 3.7],\n",
       "       [4.6, 3.6],\n",
       "       [5.1, 3.3],\n",
       "       [4.8, 3.4],\n",
       "       [5. , 3. ],\n",
       "       [5. , 3.4],\n",
       "       [5.2, 3.5],\n",
       "       [5.2, 3.4],\n",
       "       [4.7, 3.2],\n",
       "       [4.8, 3.1],\n",
       "       [5.4, 3.4],\n",
       "       [5.2, 4.1],\n",
       "       [5.5, 4.2],\n",
       "       [4.9, 3.1],\n",
       "       [5. , 3.2],\n",
       "       [5.5, 3.5],\n",
       "       [4.9, 3.1],\n",
       "       [4.4, 3. ],\n",
       "       [5.1, 3.4],\n",
       "       [5. , 3.5],\n",
       "       [4.5, 2.3],\n",
       "       [4.4, 3.2],\n",
       "       [5. , 3.5],\n",
       "       [5.1, 3.8],\n",
       "       [4.8, 3. ],\n",
       "       [5.1, 3.8],\n",
       "       [4.6, 3.2],\n",
       "       [5.3, 3.7],\n",
       "       [5. , 3.3],\n",
       "       [7. , 3.2],\n",
       "       [6.4, 3.2],\n",
       "       [6.9, 3.1],\n",
       "       [5.5, 2.3],\n",
       "       [6.5, 2.8],\n",
       "       [5.7, 2.8],\n",
       "       [6.3, 3.3],\n",
       "       [4.9, 2.4],\n",
       "       [6.6, 2.9],\n",
       "       [5.2, 2.7],\n",
       "       [5. , 2. ],\n",
       "       [5.9, 3. ],\n",
       "       [6. , 2.2],\n",
       "       [6.1, 2.9],\n",
       "       [5.6, 2.9],\n",
       "       [6.7, 3.1],\n",
       "       [5.6, 3. ],\n",
       "       [5.8, 2.7],\n",
       "       [6.2, 2.2],\n",
       "       [5.6, 2.5],\n",
       "       [5.9, 3.2],\n",
       "       [6.1, 2.8],\n",
       "       [6.3, 2.5],\n",
       "       [6.1, 2.8],\n",
       "       [6.4, 2.9],\n",
       "       [6.6, 3. ],\n",
       "       [6.8, 2.8],\n",
       "       [6.7, 3. ],\n",
       "       [6. , 2.9],\n",
       "       [5.7, 2.6],\n",
       "       [5.5, 2.4],\n",
       "       [5.5, 2.4],\n",
       "       [5.8, 2.7],\n",
       "       [6. , 2.7],\n",
       "       [5.4, 3. ],\n",
       "       [6. , 3.4],\n",
       "       [6.7, 3.1],\n",
       "       [6.3, 2.3],\n",
       "       [5.6, 3. ],\n",
       "       [5.5, 2.5],\n",
       "       [5.5, 2.6],\n",
       "       [6.1, 3. ],\n",
       "       [5.8, 2.6],\n",
       "       [5. , 2.3],\n",
       "       [5.6, 2.7],\n",
       "       [5.7, 3. ],\n",
       "       [5.7, 2.9],\n",
       "       [6.2, 2.9],\n",
       "       [5.1, 2.5],\n",
       "       [5.7, 2.8]])"
      ]
     },
     "execution_count": 36,
     "metadata": {},
     "output_type": "execute_result"
    }
   ],
   "source": [
    "# set X\n",
    "X = df[[\"sepal_length\",\"sepal_width\"]].iloc[:100].values\n",
    "X"
   ]
  },
  {
   "cell_type": "code",
   "execution_count": 37,
   "id": "328b564f",
   "metadata": {},
   "outputs": [],
   "source": [
    "#X = df.iloc[:100][[\"sepal_length\",\"sepal_width\"]]"
   ]
  },
  {
   "cell_type": "code",
   "execution_count": 38,
   "id": "179225c8",
   "metadata": {
    "scrolled": true
   },
   "outputs": [
    {
     "data": {
      "text/plain": [
       "2"
      ]
     },
     "execution_count": 38,
     "metadata": {},
     "output_type": "execute_result"
    }
   ],
   "source": [
    "X.shape[1]"
   ]
  },
  {
   "cell_type": "code",
   "execution_count": 39,
   "id": "8554f29f",
   "metadata": {
    "collapsed": true
   },
   "outputs": [
    {
     "data": {
      "text/plain": [
       "[(array([5.1, 3.5]), 1),\n",
       " (array([4.9, 3. ]), 1),\n",
       " (array([4.7, 3.2]), 1),\n",
       " (array([4.6, 3.1]), 1),\n",
       " (array([5. , 3.6]), 1),\n",
       " (array([5.4, 3.9]), 1),\n",
       " (array([4.6, 3.4]), 1),\n",
       " (array([5. , 3.4]), 1),\n",
       " (array([4.4, 2.9]), 1),\n",
       " (array([4.9, 3.1]), 1),\n",
       " (array([5.4, 3.7]), 1),\n",
       " (array([4.8, 3.4]), 1),\n",
       " (array([4.8, 3. ]), 1),\n",
       " (array([4.3, 3. ]), 1),\n",
       " (array([5.8, 4. ]), 1),\n",
       " (array([5.7, 4.4]), 1),\n",
       " (array([5.4, 3.9]), 1),\n",
       " (array([5.1, 3.5]), 1),\n",
       " (array([5.7, 3.8]), 1),\n",
       " (array([5.1, 3.8]), 1),\n",
       " (array([5.4, 3.4]), 1),\n",
       " (array([5.1, 3.7]), 1),\n",
       " (array([4.6, 3.6]), 1),\n",
       " (array([5.1, 3.3]), 1),\n",
       " (array([4.8, 3.4]), 1),\n",
       " (array([5., 3.]), 1),\n",
       " (array([5. , 3.4]), 1),\n",
       " (array([5.2, 3.5]), 1),\n",
       " (array([5.2, 3.4]), 1),\n",
       " (array([4.7, 3.2]), 1),\n",
       " (array([4.8, 3.1]), 1),\n",
       " (array([5.4, 3.4]), 1),\n",
       " (array([5.2, 4.1]), 1),\n",
       " (array([5.5, 4.2]), 1),\n",
       " (array([4.9, 3.1]), 1),\n",
       " (array([5. , 3.2]), 1),\n",
       " (array([5.5, 3.5]), 1),\n",
       " (array([4.9, 3.1]), 1),\n",
       " (array([4.4, 3. ]), 1),\n",
       " (array([5.1, 3.4]), 1),\n",
       " (array([5. , 3.5]), 1),\n",
       " (array([4.5, 2.3]), 1),\n",
       " (array([4.4, 3.2]), 1),\n",
       " (array([5. , 3.5]), 1),\n",
       " (array([5.1, 3.8]), 1),\n",
       " (array([4.8, 3. ]), 1),\n",
       " (array([5.1, 3.8]), 1),\n",
       " (array([4.6, 3.2]), 1),\n",
       " (array([5.3, 3.7]), 1),\n",
       " (array([5. , 3.3]), 1),\n",
       " (array([7. , 3.2]), -1),\n",
       " (array([6.4, 3.2]), -1),\n",
       " (array([6.9, 3.1]), -1),\n",
       " (array([5.5, 2.3]), -1),\n",
       " (array([6.5, 2.8]), -1),\n",
       " (array([5.7, 2.8]), -1),\n",
       " (array([6.3, 3.3]), -1),\n",
       " (array([4.9, 2.4]), -1),\n",
       " (array([6.6, 2.9]), -1),\n",
       " (array([5.2, 2.7]), -1),\n",
       " (array([5., 2.]), -1),\n",
       " (array([5.9, 3. ]), -1),\n",
       " (array([6. , 2.2]), -1),\n",
       " (array([6.1, 2.9]), -1),\n",
       " (array([5.6, 2.9]), -1),\n",
       " (array([6.7, 3.1]), -1),\n",
       " (array([5.6, 3. ]), -1),\n",
       " (array([5.8, 2.7]), -1),\n",
       " (array([6.2, 2.2]), -1),\n",
       " (array([5.6, 2.5]), -1),\n",
       " (array([5.9, 3.2]), -1),\n",
       " (array([6.1, 2.8]), -1),\n",
       " (array([6.3, 2.5]), -1),\n",
       " (array([6.1, 2.8]), -1),\n",
       " (array([6.4, 2.9]), -1),\n",
       " (array([6.6, 3. ]), -1),\n",
       " (array([6.8, 2.8]), -1),\n",
       " (array([6.7, 3. ]), -1),\n",
       " (array([6. , 2.9]), -1),\n",
       " (array([5.7, 2.6]), -1),\n",
       " (array([5.5, 2.4]), -1),\n",
       " (array([5.5, 2.4]), -1),\n",
       " (array([5.8, 2.7]), -1),\n",
       " (array([6. , 2.7]), -1),\n",
       " (array([5.4, 3. ]), -1),\n",
       " (array([6. , 3.4]), -1),\n",
       " (array([6.7, 3.1]), -1),\n",
       " (array([6.3, 2.3]), -1),\n",
       " (array([5.6, 3. ]), -1),\n",
       " (array([5.5, 2.5]), -1),\n",
       " (array([5.5, 2.6]), -1),\n",
       " (array([6.1, 3. ]), -1),\n",
       " (array([5.8, 2.6]), -1),\n",
       " (array([5. , 2.3]), -1),\n",
       " (array([5.6, 2.7]), -1),\n",
       " (array([5.7, 3. ]), -1),\n",
       " (array([5.7, 2.9]), -1),\n",
       " (array([6.2, 2.9]), -1),\n",
       " (array([5.1, 2.5]), -1),\n",
       " (array([5.7, 2.8]), -1)]"
      ]
     },
     "execution_count": 39,
     "metadata": {},
     "output_type": "execute_result"
    }
   ],
   "source": [
    "[p for p in zip(X,y)]"
   ]
  },
  {
   "cell_type": "code",
   "execution_count": 45,
   "id": "fd57652f",
   "metadata": {},
   "outputs": [
    {
     "data": {
      "text/plain": [
       "range(0, 100)"
      ]
     },
     "execution_count": 45,
     "metadata": {},
     "output_type": "execute_result"
    }
   ],
   "source": [
    "range(100)"
   ]
  },
  {
   "cell_type": "code",
   "execution_count": 46,
   "id": "d55ec391",
   "metadata": {},
   "outputs": [
    {
     "data": {
      "text/plain": [
       "range(1, 100)"
      ]
     },
     "execution_count": 46,
     "metadata": {},
     "output_type": "execute_result"
    }
   ],
   "source": [
    "range(1,100)"
   ]
  },
  {
   "cell_type": "raw",
   "id": "b05d2727",
   "metadata": {},
   "source": []
  },
  {
   "cell_type": "code",
   "execution_count": 57,
   "id": "76d01bb5",
   "metadata": {},
   "outputs": [],
   "source": [
    "# design a class\n",
    "class Percept(object):\n",
    "    \n",
    "    def __init__(self, eta = 0.5, epoches = 100):\n",
    "        self.eta = eta\n",
    "        self.epoches = epoches\n",
    "    \n",
    "    # define train\n",
    "    def train(self,X,y):\n",
    "        # set parameter metrix\n",
    "        self.w_ = np.random.rand(1 + X.shape[1])\n",
    "        # set the error empty list\n",
    "        self.errors_ = []\n",
    "        \n",
    "        for _ in range(self.epoches):\n",
    "            error = 0\n",
    "                \n",
    "                #not all X, is xi\n",
    "            for xi,target in zip(X,y):\n",
    "                # first write yhat-y, otherwise,\n",
    "                update = self.predict(xi) - target\n",
    "                self.w_[:-1] -= self.eta*update*xi\n",
    "                self.w_[-1] -= self.eta*update\n",
    "                error += int(update!=0)\n",
    "            \n",
    "            if error==0:\n",
    "                return self\n",
    "            \n",
    "            else:\n",
    "                self.errors_.append(error)\n",
    "        return self\n",
    "            \n",
    "    \n",
    "    # pre-activation z\n",
    "    def z(self,X):\n",
    "        return np.dot(X, self.w_[:-1])+self.w_[-1]\n",
    "    \n",
    "    \n",
    "    # post_activation yhat\n",
    "    def predict(self, X):\n",
    "        return np.where(self.z(X)>=0, 1, -1)\n",
    "        "
   ]
  },
  {
   "cell_type": "code",
   "execution_count": 58,
   "id": "afcf67f6",
   "metadata": {},
   "outputs": [],
   "source": [
    "pecp = Percept(epoches = 1000)\n"
   ]
  },
  {
   "cell_type": "code",
   "execution_count": 59,
   "id": "dbbd1680",
   "metadata": {},
   "outputs": [
    {
     "data": {
      "text/plain": [
       "<__main__.Percept at 0x11d7b1190>"
      ]
     },
     "execution_count": 59,
     "metadata": {},
     "output_type": "execute_result"
    }
   ],
   "source": [
    "pecp.train(X,y)"
   ]
  },
  {
   "cell_type": "code",
   "execution_count": 60,
   "id": "63c800c1",
   "metadata": {},
   "outputs": [
    {
     "name": "stdout",
     "output_type": "stream",
     "text": [
      "[ True  True  True  True  True  True  True  True  True  True  True  True\n",
      "  True  True  True  True  True  True  True  True  True  True  True  True\n",
      "  True  True  True  True  True  True  True  True  True  True  True  True\n",
      "  True  True  True  True  True  True  True  True  True  True  True  True\n",
      "  True  True  True  True  True  True  True  True  True  True  True  True\n",
      "  True  True  True  True  True  True  True  True  True  True  True  True\n",
      "  True  True  True  True  True  True  True  True  True  True  True  True\n",
      "  True  True  True  True  True  True  True  True  True  True  True  True\n",
      "  True  True  True  True]\n"
     ]
    }
   ],
   "source": [
    "y_hat = pecp.predict(X)\n",
    "\n",
    "print(y_hat == y)"
   ]
  },
  {
   "cell_type": "code",
   "execution_count": 61,
   "id": "466cdf48",
   "metadata": {},
   "outputs": [
    {
     "data": {
      "image/png": "[encoded data removed]",
      "text/plain": [
       "<Figure size 720x576 with 1 Axes>"
      ]
     },
     "metadata": {},
     "output_type": "display_data"
    }
   ],
   "source": [
    "plt.figure(figsize = (10,8))\n",
    "plot_decision_regions(X,y,clf=pecp)\n",
    "plt.title(\"my first perceptron\", fontsize = 18)\n",
    "plt.xlabel(\"sepal length [cm]\", fontsize = 15)\n",
    "plt.ylabel(\"sepal_width [cm]\", fontsize = 15)\n",
    "plt.show()"
   ]
  },
  {
   "cell_type": "code",
   "execution_count": 63,
   "id": "c351a64e",
   "metadata": {},
   "outputs": [
    {
     "data": {
      "image/png": "[encoded data removed]",
      "text/plain": [
       "<Figure size 720x576 with 1 Axes>"
      ]
     },
     "metadata": {},
     "output_type": "display_data"
    }
   ],
   "source": [
    "plt.figure(figsize = (10,8))\n",
    "plt.plot(range(1,len(pecp.errors_)+1),pecp.errors_,\n",
    "         marker='o',\n",
    "        label='error plot')\n",
    "plt.xlabel(\"iterations\")\n",
    "plt.ylabel(\"errors\")\n",
    "plt.legend()\n",
    "plt.show()"
   ]
  },
  {
   "cell_type": "markdown",
   "id": "0863aaae",
   "metadata": {},
   "source": [
    "apply the class in other dataset"
   ]
  },
  {
   "cell_type": "code",
   "execution_count": 71,
   "id": "c30e4ef8",
   "metadata": {},
   "outputs": [],
   "source": [
    "d2 = pd.read_csv(\"/Users/bb/Desktop/2022spring/577/jupter/dataset/palmer_penguins.csv\")"
   ]
  },
  {
   "cell_type": "code",
   "execution_count": 72,
   "id": "fe1ea633",
   "metadata": {},
   "outputs": [
    {
     "data": {
      "text/html": [
       "<div>\n",
       "<style scoped>\n",
       "    .dataframe tbody tr th:only-of-type {\n",
       "        vertical-align: middle;\n",
       "    }\n",
       "\n",
       "    .dataframe tbody tr th {\n",
       "        vertical-align: top;\n",
       "    }\n",
       "\n",
       "    .dataframe thead th {\n",
       "        text-align: right;\n",
       "    }\n",
       "</style>\n",
       "<table border=\"1\" class=\"dataframe\">\n",
       "  <thead>\n",
       "    <tr style=\"text-align: right;\">\n",
       "      <th></th>\n",
       "      <th>Unnamed: 0</th>\n",
       "      <th>species</th>\n",
       "      <th>island</th>\n",
       "      <th>bill_length_mm</th>\n",
       "      <th>bill_depth_mm</th>\n",
       "      <th>flipper_length_mm</th>\n",
       "      <th>body_mass_g</th>\n",
       "      <th>sex</th>\n",
       "    </tr>\n",
       "  </thead>\n",
       "  <tbody>\n",
       "    <tr>\n",
       "      <th>0</th>\n",
       "      <td>0</td>\n",
       "      <td>Adelie</td>\n",
       "      <td>Torgersen</td>\n",
       "      <td>39.1</td>\n",
       "      <td>18.7</td>\n",
       "      <td>181.0</td>\n",
       "      <td>3750.0</td>\n",
       "      <td>Male</td>\n",
       "    </tr>\n",
       "    <tr>\n",
       "      <th>1</th>\n",
       "      <td>1</td>\n",
       "      <td>Adelie</td>\n",
       "      <td>Torgersen</td>\n",
       "      <td>39.5</td>\n",
       "      <td>17.4</td>\n",
       "      <td>186.0</td>\n",
       "      <td>3800.0</td>\n",
       "      <td>Female</td>\n",
       "    </tr>\n",
       "    <tr>\n",
       "      <th>2</th>\n",
       "      <td>2</td>\n",
       "      <td>Adelie</td>\n",
       "      <td>Torgersen</td>\n",
       "      <td>40.3</td>\n",
       "      <td>18.0</td>\n",
       "      <td>195.0</td>\n",
       "      <td>3250.0</td>\n",
       "      <td>Female</td>\n",
       "    </tr>\n",
       "    <tr>\n",
       "      <th>3</th>\n",
       "      <td>3</td>\n",
       "      <td>Adelie</td>\n",
       "      <td>Torgersen</td>\n",
       "      <td>NaN</td>\n",
       "      <td>NaN</td>\n",
       "      <td>NaN</td>\n",
       "      <td>NaN</td>\n",
       "      <td>NaN</td>\n",
       "    </tr>\n",
       "    <tr>\n",
       "      <th>4</th>\n",
       "      <td>4</td>\n",
       "      <td>Adelie</td>\n",
       "      <td>Torgersen</td>\n",
       "      <td>36.7</td>\n",
       "      <td>19.3</td>\n",
       "      <td>193.0</td>\n",
       "      <td>3450.0</td>\n",
       "      <td>Female</td>\n",
       "    </tr>\n",
       "    <tr>\n",
       "      <th>...</th>\n",
       "      <td>...</td>\n",
       "      <td>...</td>\n",
       "      <td>...</td>\n",
       "      <td>...</td>\n",
       "      <td>...</td>\n",
       "      <td>...</td>\n",
       "      <td>...</td>\n",
       "      <td>...</td>\n",
       "    </tr>\n",
       "    <tr>\n",
       "      <th>339</th>\n",
       "      <td>339</td>\n",
       "      <td>Gentoo</td>\n",
       "      <td>Biscoe</td>\n",
       "      <td>NaN</td>\n",
       "      <td>NaN</td>\n",
       "      <td>NaN</td>\n",
       "      <td>NaN</td>\n",
       "      <td>NaN</td>\n",
       "    </tr>\n",
       "    <tr>\n",
       "      <th>340</th>\n",
       "      <td>340</td>\n",
       "      <td>Gentoo</td>\n",
       "      <td>Biscoe</td>\n",
       "      <td>46.8</td>\n",
       "      <td>14.3</td>\n",
       "      <td>215.0</td>\n",
       "      <td>4850.0</td>\n",
       "      <td>Female</td>\n",
       "    </tr>\n",
       "    <tr>\n",
       "      <th>341</th>\n",
       "      <td>341</td>\n",
       "      <td>Gentoo</td>\n",
       "      <td>Biscoe</td>\n",
       "      <td>50.4</td>\n",
       "      <td>15.7</td>\n",
       "      <td>222.0</td>\n",
       "      <td>5750.0</td>\n",
       "      <td>Male</td>\n",
       "    </tr>\n",
       "    <tr>\n",
       "      <th>342</th>\n",
       "      <td>342</td>\n",
       "      <td>Gentoo</td>\n",
       "      <td>Biscoe</td>\n",
       "      <td>45.2</td>\n",
       "      <td>14.8</td>\n",
       "      <td>212.0</td>\n",
       "      <td>5200.0</td>\n",
       "      <td>Female</td>\n",
       "    </tr>\n",
       "    <tr>\n",
       "      <th>343</th>\n",
       "      <td>343</td>\n",
       "      <td>Gentoo</td>\n",
       "      <td>Biscoe</td>\n",
       "      <td>49.9</td>\n",
       "      <td>16.1</td>\n",
       "      <td>213.0</td>\n",
       "      <td>5400.0</td>\n",
       "      <td>Male</td>\n",
       "    </tr>\n",
       "  </tbody>\n",
       "</table>\n",
       "<p>344 rows × 8 columns</p>\n",
       "</div>"
      ],
      "text/plain": [
       "     Unnamed: 0 species     island  bill_length_mm  bill_depth_mm  \\\n",
       "0             0  Adelie  Torgersen            39.1           18.7   \n",
       "1             1  Adelie  Torgersen            39.5           17.4   \n",
       "2             2  Adelie  Torgersen            40.3           18.0   \n",
       "3             3  Adelie  Torgersen             NaN            NaN   \n",
       "4             4  Adelie  Torgersen            36.7           19.3   \n",
       "..          ...     ...        ...             ...            ...   \n",
       "339         339  Gentoo     Biscoe             NaN            NaN   \n",
       "340         340  Gentoo     Biscoe            46.8           14.3   \n",
       "341         341  Gentoo     Biscoe            50.4           15.7   \n",
       "342         342  Gentoo     Biscoe            45.2           14.8   \n",
       "343         343  Gentoo     Biscoe            49.9           16.1   \n",
       "\n",
       "     flipper_length_mm  body_mass_g     sex  \n",
       "0                181.0       3750.0    Male  \n",
       "1                186.0       3800.0  Female  \n",
       "2                195.0       3250.0  Female  \n",
       "3                  NaN          NaN     NaN  \n",
       "4                193.0       3450.0  Female  \n",
       "..                 ...          ...     ...  \n",
       "339                NaN          NaN     NaN  \n",
       "340              215.0       4850.0  Female  \n",
       "341              222.0       5750.0    Male  \n",
       "342              212.0       5200.0  Female  \n",
       "343              213.0       5400.0    Male  \n",
       "\n",
       "[344 rows x 8 columns]"
      ]
     },
     "execution_count": 72,
     "metadata": {},
     "output_type": "execute_result"
    }
   ],
   "source": [
    "d2"
   ]
  },
  {
   "cell_type": "code",
   "execution_count": 73,
   "id": "6552530a",
   "metadata": {},
   "outputs": [
    {
     "data": {
      "text/html": [
       "<div>\n",
       "<style scoped>\n",
       "    .dataframe tbody tr th:only-of-type {\n",
       "        vertical-align: middle;\n",
       "    }\n",
       "\n",
       "    .dataframe tbody tr th {\n",
       "        vertical-align: top;\n",
       "    }\n",
       "\n",
       "    .dataframe thead th {\n",
       "        text-align: right;\n",
       "    }\n",
       "</style>\n",
       "<table border=\"1\" class=\"dataframe\">\n",
       "  <thead>\n",
       "    <tr style=\"text-align: right;\">\n",
       "      <th></th>\n",
       "      <th>Unnamed: 0</th>\n",
       "      <th>species</th>\n",
       "      <th>island</th>\n",
       "      <th>bill_length_mm</th>\n",
       "      <th>bill_depth_mm</th>\n",
       "      <th>flipper_length_mm</th>\n",
       "      <th>body_mass_g</th>\n",
       "      <th>sex</th>\n",
       "    </tr>\n",
       "  </thead>\n",
       "  <tbody>\n",
       "    <tr>\n",
       "      <th>0</th>\n",
       "      <td>0</td>\n",
       "      <td>Adelie</td>\n",
       "      <td>Torgersen</td>\n",
       "      <td>39.1</td>\n",
       "      <td>18.7</td>\n",
       "      <td>181.0</td>\n",
       "      <td>3750.0</td>\n",
       "      <td>Male</td>\n",
       "    </tr>\n",
       "    <tr>\n",
       "      <th>1</th>\n",
       "      <td>1</td>\n",
       "      <td>Adelie</td>\n",
       "      <td>Torgersen</td>\n",
       "      <td>39.5</td>\n",
       "      <td>17.4</td>\n",
       "      <td>186.0</td>\n",
       "      <td>3800.0</td>\n",
       "      <td>Female</td>\n",
       "    </tr>\n",
       "    <tr>\n",
       "      <th>2</th>\n",
       "      <td>2</td>\n",
       "      <td>Adelie</td>\n",
       "      <td>Torgersen</td>\n",
       "      <td>40.3</td>\n",
       "      <td>18.0</td>\n",
       "      <td>195.0</td>\n",
       "      <td>3250.0</td>\n",
       "      <td>Female</td>\n",
       "    </tr>\n",
       "    <tr>\n",
       "      <th>3</th>\n",
       "      <td>3</td>\n",
       "      <td>Adelie</td>\n",
       "      <td>Torgersen</td>\n",
       "      <td>NaN</td>\n",
       "      <td>NaN</td>\n",
       "      <td>NaN</td>\n",
       "      <td>NaN</td>\n",
       "      <td>NaN</td>\n",
       "    </tr>\n",
       "    <tr>\n",
       "      <th>4</th>\n",
       "      <td>4</td>\n",
       "      <td>Adelie</td>\n",
       "      <td>Torgersen</td>\n",
       "      <td>36.7</td>\n",
       "      <td>19.3</td>\n",
       "      <td>193.0</td>\n",
       "      <td>3450.0</td>\n",
       "      <td>Female</td>\n",
       "    </tr>\n",
       "    <tr>\n",
       "      <th>...</th>\n",
       "      <td>...</td>\n",
       "      <td>...</td>\n",
       "      <td>...</td>\n",
       "      <td>...</td>\n",
       "      <td>...</td>\n",
       "      <td>...</td>\n",
       "      <td>...</td>\n",
       "      <td>...</td>\n",
       "    </tr>\n",
       "    <tr>\n",
       "      <th>95</th>\n",
       "      <td>95</td>\n",
       "      <td>Adelie</td>\n",
       "      <td>Dream</td>\n",
       "      <td>40.8</td>\n",
       "      <td>18.9</td>\n",
       "      <td>208.0</td>\n",
       "      <td>4300.0</td>\n",
       "      <td>Male</td>\n",
       "    </tr>\n",
       "    <tr>\n",
       "      <th>96</th>\n",
       "      <td>96</td>\n",
       "      <td>Adelie</td>\n",
       "      <td>Dream</td>\n",
       "      <td>38.1</td>\n",
       "      <td>18.6</td>\n",
       "      <td>190.0</td>\n",
       "      <td>3700.0</td>\n",
       "      <td>Female</td>\n",
       "    </tr>\n",
       "    <tr>\n",
       "      <th>97</th>\n",
       "      <td>97</td>\n",
       "      <td>Adelie</td>\n",
       "      <td>Dream</td>\n",
       "      <td>40.3</td>\n",
       "      <td>18.5</td>\n",
       "      <td>196.0</td>\n",
       "      <td>4350.0</td>\n",
       "      <td>Male</td>\n",
       "    </tr>\n",
       "    <tr>\n",
       "      <th>98</th>\n",
       "      <td>98</td>\n",
       "      <td>Adelie</td>\n",
       "      <td>Dream</td>\n",
       "      <td>33.1</td>\n",
       "      <td>16.1</td>\n",
       "      <td>178.0</td>\n",
       "      <td>2900.0</td>\n",
       "      <td>Female</td>\n",
       "    </tr>\n",
       "    <tr>\n",
       "      <th>99</th>\n",
       "      <td>99</td>\n",
       "      <td>Adelie</td>\n",
       "      <td>Dream</td>\n",
       "      <td>43.2</td>\n",
       "      <td>18.5</td>\n",
       "      <td>192.0</td>\n",
       "      <td>4100.0</td>\n",
       "      <td>Male</td>\n",
       "    </tr>\n",
       "  </tbody>\n",
       "</table>\n",
       "<p>100 rows × 8 columns</p>\n",
       "</div>"
      ],
      "text/plain": [
       "    Unnamed: 0 species     island  bill_length_mm  bill_depth_mm  \\\n",
       "0            0  Adelie  Torgersen            39.1           18.7   \n",
       "1            1  Adelie  Torgersen            39.5           17.4   \n",
       "2            2  Adelie  Torgersen            40.3           18.0   \n",
       "3            3  Adelie  Torgersen             NaN            NaN   \n",
       "4            4  Adelie  Torgersen            36.7           19.3   \n",
       "..         ...     ...        ...             ...            ...   \n",
       "95          95  Adelie      Dream            40.8           18.9   \n",
       "96          96  Adelie      Dream            38.1           18.6   \n",
       "97          97  Adelie      Dream            40.3           18.5   \n",
       "98          98  Adelie      Dream            33.1           16.1   \n",
       "99          99  Adelie      Dream            43.2           18.5   \n",
       "\n",
       "    flipper_length_mm  body_mass_g     sex  \n",
       "0               181.0       3750.0    Male  \n",
       "1               186.0       3800.0  Female  \n",
       "2               195.0       3250.0  Female  \n",
       "3                 NaN          NaN     NaN  \n",
       "4               193.0       3450.0  Female  \n",
       "..                ...          ...     ...  \n",
       "95              208.0       4300.0    Male  \n",
       "96              190.0       3700.0  Female  \n",
       "97              196.0       4350.0    Male  \n",
       "98              178.0       2900.0  Female  \n",
       "99              192.0       4100.0    Male  \n",
       "\n",
       "[100 rows x 8 columns]"
      ]
     },
     "execution_count": 73,
     "metadata": {},
     "output_type": "execute_result"
    }
   ],
   "source": [
    "d2.iloc[:100]"
   ]
  },
  {
   "cell_type": "code",
   "execution_count": 76,
   "id": "def7f2d0",
   "metadata": {},
   "outputs": [],
   "source": [
    "d2 = d2.dropna()"
   ]
  },
  {
   "cell_type": "code",
   "execution_count": 77,
   "id": "5150969e",
   "metadata": {},
   "outputs": [
    {
     "data": {
      "text/html": [
       "<div>\n",
       "<style scoped>\n",
       "    .dataframe tbody tr th:only-of-type {\n",
       "        vertical-align: middle;\n",
       "    }\n",
       "\n",
       "    .dataframe tbody tr th {\n",
       "        vertical-align: top;\n",
       "    }\n",
       "\n",
       "    .dataframe thead th {\n",
       "        text-align: right;\n",
       "    }\n",
       "</style>\n",
       "<table border=\"1\" class=\"dataframe\">\n",
       "  <thead>\n",
       "    <tr style=\"text-align: right;\">\n",
       "      <th></th>\n",
       "      <th>Unnamed: 0</th>\n",
       "      <th>species</th>\n",
       "      <th>island</th>\n",
       "      <th>bill_length_mm</th>\n",
       "      <th>bill_depth_mm</th>\n",
       "      <th>flipper_length_mm</th>\n",
       "      <th>body_mass_g</th>\n",
       "      <th>sex</th>\n",
       "    </tr>\n",
       "  </thead>\n",
       "  <tbody>\n",
       "    <tr>\n",
       "      <th>0</th>\n",
       "      <td>0</td>\n",
       "      <td>Adelie</td>\n",
       "      <td>Torgersen</td>\n",
       "      <td>39.1</td>\n",
       "      <td>18.7</td>\n",
       "      <td>181.0</td>\n",
       "      <td>3750.0</td>\n",
       "      <td>Male</td>\n",
       "    </tr>\n",
       "    <tr>\n",
       "      <th>1</th>\n",
       "      <td>1</td>\n",
       "      <td>Adelie</td>\n",
       "      <td>Torgersen</td>\n",
       "      <td>39.5</td>\n",
       "      <td>17.4</td>\n",
       "      <td>186.0</td>\n",
       "      <td>3800.0</td>\n",
       "      <td>Female</td>\n",
       "    </tr>\n",
       "    <tr>\n",
       "      <th>2</th>\n",
       "      <td>2</td>\n",
       "      <td>Adelie</td>\n",
       "      <td>Torgersen</td>\n",
       "      <td>40.3</td>\n",
       "      <td>18.0</td>\n",
       "      <td>195.0</td>\n",
       "      <td>3250.0</td>\n",
       "      <td>Female</td>\n",
       "    </tr>\n",
       "    <tr>\n",
       "      <th>4</th>\n",
       "      <td>4</td>\n",
       "      <td>Adelie</td>\n",
       "      <td>Torgersen</td>\n",
       "      <td>36.7</td>\n",
       "      <td>19.3</td>\n",
       "      <td>193.0</td>\n",
       "      <td>3450.0</td>\n",
       "      <td>Female</td>\n",
       "    </tr>\n",
       "    <tr>\n",
       "      <th>5</th>\n",
       "      <td>5</td>\n",
       "      <td>Adelie</td>\n",
       "      <td>Torgersen</td>\n",
       "      <td>39.3</td>\n",
       "      <td>20.6</td>\n",
       "      <td>190.0</td>\n",
       "      <td>3650.0</td>\n",
       "      <td>Male</td>\n",
       "    </tr>\n",
       "    <tr>\n",
       "      <th>...</th>\n",
       "      <td>...</td>\n",
       "      <td>...</td>\n",
       "      <td>...</td>\n",
       "      <td>...</td>\n",
       "      <td>...</td>\n",
       "      <td>...</td>\n",
       "      <td>...</td>\n",
       "      <td>...</td>\n",
       "    </tr>\n",
       "    <tr>\n",
       "      <th>338</th>\n",
       "      <td>338</td>\n",
       "      <td>Gentoo</td>\n",
       "      <td>Biscoe</td>\n",
       "      <td>47.2</td>\n",
       "      <td>13.7</td>\n",
       "      <td>214.0</td>\n",
       "      <td>4925.0</td>\n",
       "      <td>Female</td>\n",
       "    </tr>\n",
       "    <tr>\n",
       "      <th>340</th>\n",
       "      <td>340</td>\n",
       "      <td>Gentoo</td>\n",
       "      <td>Biscoe</td>\n",
       "      <td>46.8</td>\n",
       "      <td>14.3</td>\n",
       "      <td>215.0</td>\n",
       "      <td>4850.0</td>\n",
       "      <td>Female</td>\n",
       "    </tr>\n",
       "    <tr>\n",
       "      <th>341</th>\n",
       "      <td>341</td>\n",
       "      <td>Gentoo</td>\n",
       "      <td>Biscoe</td>\n",
       "      <td>50.4</td>\n",
       "      <td>15.7</td>\n",
       "      <td>222.0</td>\n",
       "      <td>5750.0</td>\n",
       "      <td>Male</td>\n",
       "    </tr>\n",
       "    <tr>\n",
       "      <th>342</th>\n",
       "      <td>342</td>\n",
       "      <td>Gentoo</td>\n",
       "      <td>Biscoe</td>\n",
       "      <td>45.2</td>\n",
       "      <td>14.8</td>\n",
       "      <td>212.0</td>\n",
       "      <td>5200.0</td>\n",
       "      <td>Female</td>\n",
       "    </tr>\n",
       "    <tr>\n",
       "      <th>343</th>\n",
       "      <td>343</td>\n",
       "      <td>Gentoo</td>\n",
       "      <td>Biscoe</td>\n",
       "      <td>49.9</td>\n",
       "      <td>16.1</td>\n",
       "      <td>213.0</td>\n",
       "      <td>5400.0</td>\n",
       "      <td>Male</td>\n",
       "    </tr>\n",
       "  </tbody>\n",
       "</table>\n",
       "<p>333 rows × 8 columns</p>\n",
       "</div>"
      ],
      "text/plain": [
       "     Unnamed: 0 species     island  bill_length_mm  bill_depth_mm  \\\n",
       "0             0  Adelie  Torgersen            39.1           18.7   \n",
       "1             1  Adelie  Torgersen            39.5           17.4   \n",
       "2             2  Adelie  Torgersen            40.3           18.0   \n",
       "4             4  Adelie  Torgersen            36.7           19.3   \n",
       "5             5  Adelie  Torgersen            39.3           20.6   \n",
       "..          ...     ...        ...             ...            ...   \n",
       "338         338  Gentoo     Biscoe            47.2           13.7   \n",
       "340         340  Gentoo     Biscoe            46.8           14.3   \n",
       "341         341  Gentoo     Biscoe            50.4           15.7   \n",
       "342         342  Gentoo     Biscoe            45.2           14.8   \n",
       "343         343  Gentoo     Biscoe            49.9           16.1   \n",
       "\n",
       "     flipper_length_mm  body_mass_g     sex  \n",
       "0                181.0       3750.0    Male  \n",
       "1                186.0       3800.0  Female  \n",
       "2                195.0       3250.0  Female  \n",
       "4                193.0       3450.0  Female  \n",
       "5                190.0       3650.0    Male  \n",
       "..                 ...          ...     ...  \n",
       "338              214.0       4925.0  Female  \n",
       "340              215.0       4850.0  Female  \n",
       "341              222.0       5750.0    Male  \n",
       "342              212.0       5200.0  Female  \n",
       "343              213.0       5400.0    Male  \n",
       "\n",
       "[333 rows x 8 columns]"
      ]
     },
     "execution_count": 77,
     "metadata": {},
     "output_type": "execute_result"
    }
   ],
   "source": [
    "d2"
   ]
  },
  {
   "cell_type": "code",
   "execution_count": 103,
   "id": "a35470ea",
   "metadata": {},
   "outputs": [
    {
     "data": {
      "text/plain": [
       "array([ 1, -1, -1, -1,  1, -1,  1, -1,  1,  1, -1, -1,  1, -1,  1, -1,  1,\n",
       "       -1,  1,  1, -1,  1, -1, -1,  1, -1,  1, -1,  1, -1,  1,  1, -1, -1,\n",
       "        1, -1,  1, -1,  1, -1,  1,  1, -1,  1, -1,  1, -1,  1, -1,  1, -1,\n",
       "        1, -1,  1, -1,  1, -1,  1, -1,  1, -1,  1, -1,  1, -1,  1, -1,  1,\n",
       "       -1,  1, -1,  1, -1,  1, -1,  1, -1,  1, -1,  1,  1, -1,  1, -1, -1,\n",
       "        1, -1,  1, -1,  1, -1,  1, -1,  1, -1,  1, -1,  1, -1,  1])"
      ]
     },
     "execution_count": 103,
     "metadata": {},
     "output_type": "execute_result"
    }
   ],
   "source": [
    "y2 = d2.iloc[0:100].sex.values\n",
    "y2 = np.where(y2 == 'Male', 1, -1)\n",
    "y2"
   ]
  },
  {
   "cell_type": "markdown",
   "id": "4cecbfe8",
   "metadata": {},
   "source": [
    "set X"
   ]
  },
  {
   "cell_type": "code",
   "execution_count": 105,
   "id": "ed4c5147",
   "metadata": {
    "collapsed": true
   },
   "outputs": [
    {
     "data": {
      "text/plain": [
       "array([[39.1, 18.7],\n",
       "       [39.5, 17.4],\n",
       "       [40.3, 18. ],\n",
       "       [36.7, 19.3],\n",
       "       [39.3, 20.6],\n",
       "       [38.9, 17.8],\n",
       "       [39.2, 19.6],\n",
       "       [41.1, 17.6],\n",
       "       [38.6, 21.2],\n",
       "       [34.6, 21.1],\n",
       "       [36.6, 17.8],\n",
       "       [38.7, 19. ],\n",
       "       [42.5, 20.7],\n",
       "       [34.4, 18.4],\n",
       "       [46. , 21.5],\n",
       "       [37.8, 18.3],\n",
       "       [37.7, 18.7],\n",
       "       [35.9, 19.2],\n",
       "       [38.2, 18.1],\n",
       "       [38.8, 17.2],\n",
       "       [35.3, 18.9],\n",
       "       [40.6, 18.6],\n",
       "       [40.5, 17.9],\n",
       "       [37.9, 18.6],\n",
       "       [40.5, 18.9],\n",
       "       [39.5, 16.7],\n",
       "       [37.2, 18.1],\n",
       "       [39.5, 17.8],\n",
       "       [40.9, 18.9],\n",
       "       [36.4, 17. ],\n",
       "       [39.2, 21.1],\n",
       "       [38.8, 20. ],\n",
       "       [42.2, 18.5],\n",
       "       [37.6, 19.3],\n",
       "       [39.8, 19.1],\n",
       "       [36.5, 18. ],\n",
       "       [40.8, 18.4],\n",
       "       [36. , 18.5],\n",
       "       [44.1, 19.7],\n",
       "       [37. , 16.9],\n",
       "       [39.6, 18.8],\n",
       "       [41.1, 19. ],\n",
       "       [36. , 17.9],\n",
       "       [42.3, 21.2],\n",
       "       [39.6, 17.7],\n",
       "       [40.1, 18.9],\n",
       "       [35. , 17.9],\n",
       "       [42. , 19.5],\n",
       "       [34.5, 18.1],\n",
       "       [41.4, 18.6],\n",
       "       [39. , 17.5],\n",
       "       [40.6, 18.8],\n",
       "       [36.5, 16.6],\n",
       "       [37.6, 19.1],\n",
       "       [35.7, 16.9],\n",
       "       [41.3, 21.1],\n",
       "       [37.6, 17. ],\n",
       "       [41.1, 18.2],\n",
       "       [36.4, 17.1],\n",
       "       [41.6, 18. ],\n",
       "       [35.5, 16.2],\n",
       "       [41.1, 19.1],\n",
       "       [35.9, 16.6],\n",
       "       [41.8, 19.4],\n",
       "       [33.5, 19. ],\n",
       "       [39.7, 18.4],\n",
       "       [39.6, 17.2],\n",
       "       [45.8, 18.9],\n",
       "       [35.5, 17.5],\n",
       "       [42.8, 18.5],\n",
       "       [40.9, 16.8],\n",
       "       [37.2, 19.4],\n",
       "       [36.2, 16.1],\n",
       "       [42.1, 19.1],\n",
       "       [34.6, 17.2],\n",
       "       [42.9, 17.6],\n",
       "       [36.7, 18.8],\n",
       "       [35.1, 19.4],\n",
       "       [37.3, 17.8],\n",
       "       [41.3, 20.3],\n",
       "       [36.3, 19.5],\n",
       "       [36.9, 18.6],\n",
       "       [38.3, 19.2],\n",
       "       [38.9, 18.8],\n",
       "       [35.7, 18. ],\n",
       "       [41.1, 18.1],\n",
       "       [34. , 17.1],\n",
       "       [39.6, 18.1],\n",
       "       [36.2, 17.3],\n",
       "       [40.8, 18.9],\n",
       "       [38.1, 18.6],\n",
       "       [40.3, 18.5],\n",
       "       [33.1, 16.1],\n",
       "       [43.2, 18.5],\n",
       "       [35. , 17.9],\n",
       "       [41. , 20. ],\n",
       "       [37.7, 16. ],\n",
       "       [37.8, 20. ],\n",
       "       [37.9, 18.6],\n",
       "       [39.7, 18.9]])"
      ]
     },
     "execution_count": 105,
     "metadata": {},
     "output_type": "execute_result"
    }
   ],
   "source": [
    "X2 = d2.iloc[0:100][['bill_length_mm','bill_depth_mm']].values\n",
    "X2"
   ]
  },
  {
   "cell_type": "code",
   "execution_count": 107,
   "id": "53621db3",
   "metadata": {},
   "outputs": [
    {
     "data": {
      "text/plain": [
       "<__main__.Percept at 0x12086c040>"
      ]
     },
     "execution_count": 107,
     "metadata": {},
     "output_type": "execute_result"
    }
   ],
   "source": [
    "pecp2 = Percept(epoches = 3000)\n",
    "pecp2.train(X2,y2)"
   ]
  },
  {
   "cell_type": "code",
   "execution_count": 108,
   "id": "be0f62e6",
   "metadata": {},
   "outputs": [
    {
     "name": "stdout",
     "output_type": "stream",
     "text": [
      "[ True False False False  True False  True False  True  True  True False\n",
      "  True False  True False  True False  True False False  True False False\n",
      "  True  True  True False  True  True  True  True False False  True False\n",
      "  True False  True  True  True  True  True  True False  True  True  True\n",
      "  True  True False  True  True  True  True  True  True  True  True  True\n",
      "  True  True  True  True False  True  True  True  True  True  True  True\n",
      "  True  True  True  True False  True False  True  True False  True False\n",
      "  True  True  True  True  True  True False  True  True  True  True  True\n",
      "  True  True False  True]\n"
     ]
    }
   ],
   "source": [
    "y_hat2 = pecp2.predict(X2)\n",
    "print(y_hat2 == y2)"
   ]
  },
  {
   "cell_type": "code",
   "execution_count": 110,
   "id": "ee05f118",
   "metadata": {},
   "outputs": [
    {
     "data": {
      "image/png": "[encoded data removed]",
      "text/plain": [
       "<Figure size 720x576 with 1 Axes>"
      ]
     },
     "metadata": {},
     "output_type": "display_data"
    }
   ],
   "source": [
    "plt.figure(figsize = (10,8))\n",
    "plot_decision_regions(X2,y2,clf=pecp2)\n",
    "plt.title(\"my first perceptron\", fontsize = 18)\n",
    "plt.xlabel(\"bill_length_mm\", fontsize = 15)\n",
    "plt.ylabel(\"bill_depth_mm\", fontsize = 15)\n",
    "plt.show()"
   ]
  },
  {
   "cell_type": "code",
   "execution_count": 111,
   "id": "55e1b6dc",
   "metadata": {},
   "outputs": [
    {
     "data": {
      "image/png": "[encoded data removed]",
      "text/plain": [
       "<Figure size 720x576 with 1 Axes>"
      ]
     },
     "metadata": {},
     "output_type": "display_data"
    }
   ],
   "source": [
    "plt.figure(figsize = (10,8))\n",
    "plt.plot(range(1,len(pecp2.errors_)+1),pecp2.errors_,\n",
    "         marker='o',\n",
    "        label='error plot')\n",
    "plt.xlabel(\"iterations\")\n",
    "plt.ylabel(\"errors\")\n",
    "plt.legend()\n",
    "plt.show()"
   ]
  },
  {
   "cell_type": "code",
   "execution_count": 135,
   "id": "54e3633a",
   "metadata": {},
   "outputs": [
    {
     "data": {
      "text/plain": [
       "numpy.ndarray"
      ]
     },
     "execution_count": 135,
     "metadata": {},
     "output_type": "execute_result"
    }
   ],
   "source": [
    "type(X2)\n",
    "type(y2)"
   ]
  },
  {
   "cell_type": "code",
   "execution_count": 147,
   "id": "2d891639",
   "metadata": {},
   "outputs": [
    {
     "data": {
      "text/plain": [
       "(100, 2)"
      ]
     },
     "execution_count": 147,
     "metadata": {},
     "output_type": "execute_result"
    }
   ],
   "source": [
    "X2.shape"
   ]
  },
  {
   "cell_type": "markdown",
   "id": "081d726d",
   "metadata": {},
   "source": [
    "combine X2 and y2"
   ]
  },
  {
   "cell_type": "code",
   "execution_count": 156,
   "id": "a1c899f5",
   "metadata": {
    "collapsed": true
   },
   "outputs": [
    {
     "data": {
      "text/plain": [
       "array([[39.1, 18.7,  1. ],\n",
       "       [39.5, 17.4, -1. ],\n",
       "       [40.3, 18. , -1. ],\n",
       "       [36.7, 19.3, -1. ],\n",
       "       [39.3, 20.6,  1. ],\n",
       "       [38.9, 17.8, -1. ],\n",
       "       [39.2, 19.6,  1. ],\n",
       "       [41.1, 17.6, -1. ],\n",
       "       [38.6, 21.2,  1. ],\n",
       "       [34.6, 21.1,  1. ],\n",
       "       [36.6, 17.8, -1. ],\n",
       "       [38.7, 19. , -1. ],\n",
       "       [42.5, 20.7,  1. ],\n",
       "       [34.4, 18.4, -1. ],\n",
       "       [46. , 21.5,  1. ],\n",
       "       [37.8, 18.3, -1. ],\n",
       "       [37.7, 18.7,  1. ],\n",
       "       [35.9, 19.2, -1. ],\n",
       "       [38.2, 18.1,  1. ],\n",
       "       [38.8, 17.2,  1. ],\n",
       "       [35.3, 18.9, -1. ],\n",
       "       [40.6, 18.6,  1. ],\n",
       "       [40.5, 17.9, -1. ],\n",
       "       [37.9, 18.6, -1. ],\n",
       "       [40.5, 18.9,  1. ],\n",
       "       [39.5, 16.7, -1. ],\n",
       "       [37.2, 18.1,  1. ],\n",
       "       [39.5, 17.8, -1. ],\n",
       "       [40.9, 18.9,  1. ],\n",
       "       [36.4, 17. , -1. ],\n",
       "       [39.2, 21.1,  1. ],\n",
       "       [38.8, 20. ,  1. ],\n",
       "       [42.2, 18.5, -1. ],\n",
       "       [37.6, 19.3, -1. ],\n",
       "       [39.8, 19.1,  1. ],\n",
       "       [36.5, 18. , -1. ],\n",
       "       [40.8, 18.4,  1. ],\n",
       "       [36. , 18.5, -1. ],\n",
       "       [44.1, 19.7,  1. ],\n",
       "       [37. , 16.9, -1. ],\n",
       "       [39.6, 18.8,  1. ],\n",
       "       [41.1, 19. ,  1. ],\n",
       "       [36. , 17.9, -1. ],\n",
       "       [42.3, 21.2,  1. ],\n",
       "       [39.6, 17.7, -1. ],\n",
       "       [40.1, 18.9,  1. ],\n",
       "       [35. , 17.9, -1. ],\n",
       "       [42. , 19.5,  1. ],\n",
       "       [34.5, 18.1, -1. ],\n",
       "       [41.4, 18.6,  1. ],\n",
       "       [39. , 17.5, -1. ],\n",
       "       [40.6, 18.8,  1. ],\n",
       "       [36.5, 16.6, -1. ],\n",
       "       [37.6, 19.1,  1. ],\n",
       "       [35.7, 16.9, -1. ],\n",
       "       [41.3, 21.1,  1. ],\n",
       "       [37.6, 17. , -1. ],\n",
       "       [41.1, 18.2,  1. ],\n",
       "       [36.4, 17.1, -1. ],\n",
       "       [41.6, 18. ,  1. ],\n",
       "       [35.5, 16.2, -1. ],\n",
       "       [41.1, 19.1,  1. ],\n",
       "       [35.9, 16.6, -1. ],\n",
       "       [41.8, 19.4,  1. ],\n",
       "       [33.5, 19. , -1. ],\n",
       "       [39.7, 18.4,  1. ],\n",
       "       [39.6, 17.2, -1. ],\n",
       "       [45.8, 18.9,  1. ],\n",
       "       [35.5, 17.5, -1. ],\n",
       "       [42.8, 18.5,  1. ],\n",
       "       [40.9, 16.8, -1. ],\n",
       "       [37.2, 19.4,  1. ],\n",
       "       [36.2, 16.1, -1. ],\n",
       "       [42.1, 19.1,  1. ],\n",
       "       [34.6, 17.2, -1. ],\n",
       "       [42.9, 17.6,  1. ],\n",
       "       [36.7, 18.8, -1. ],\n",
       "       [35.1, 19.4,  1. ],\n",
       "       [37.3, 17.8, -1. ],\n",
       "       [41.3, 20.3,  1. ],\n",
       "       [36.3, 19.5,  1. ],\n",
       "       [36.9, 18.6, -1. ],\n",
       "       [38.3, 19.2,  1. ],\n",
       "       [38.9, 18.8, -1. ],\n",
       "       [35.7, 18. , -1. ],\n",
       "       [41.1, 18.1,  1. ],\n",
       "       [34. , 17.1, -1. ],\n",
       "       [39.6, 18.1,  1. ],\n",
       "       [36.2, 17.3, -1. ],\n",
       "       [40.8, 18.9,  1. ],\n",
       "       [38.1, 18.6, -1. ],\n",
       "       [40.3, 18.5,  1. ],\n",
       "       [33.1, 16.1, -1. ],\n",
       "       [43.2, 18.5,  1. ],\n",
       "       [35. , 17.9, -1. ],\n",
       "       [41. , 20. ,  1. ],\n",
       "       [37.7, 16. , -1. ],\n",
       "       [37.8, 20. ,  1. ],\n",
       "       [37.9, 18.6, -1. ],\n",
       "       [39.7, 18.9,  1. ]])"
      ]
     },
     "execution_count": 156,
     "metadata": {},
     "output_type": "execute_result"
    }
   ],
   "source": [
    "X3 = np.column_stack((X2,y2))\n",
    "X3"
   ]
  },
  {
   "cell_type": "markdown",
   "id": "08a5cfd1",
   "metadata": {},
   "source": [
    "Distinguish between positive and negative samples"
   ]
  },
  {
   "cell_type": "code",
   "execution_count": 159,
   "id": "d3fea853",
   "metadata": {},
   "outputs": [],
   "source": [
    "posi_x = X3[X3[...,2]==1]\n",
    "nega_x = X3[X3[...,2]== -1]"
   ]
  },
  {
   "cell_type": "code",
   "execution_count": 160,
   "id": "defd91d9",
   "metadata": {},
   "outputs": [
    {
     "data": {
      "image/png": "[encoded data removed]",
      "text/plain": [
       "<Figure size 720x576 with 1 Axes>"
      ]
     },
     "metadata": {},
     "output_type": "display_data"
    }
   ],
   "source": [
    "plt.figure(figsize = (10,8))\n",
    "plt.scatter(posi_x[ ...,0],posi_x[ ...,1],\n",
    "        marker = 'o')\n",
    "plt.scatter(nega_x[ ...,0],nega_x[ ...,1],\n",
    "        marker = '+')\n",
    "plt.show()"
   ]
  },
  {
   "cell_type": "code",
   "execution_count": 132,
   "id": "e212c8f2",
   "metadata": {},
   "outputs": [
    {
     "data": {
      "text/plain": [
       "array([3, 4, 4, 4, 2])"
      ]
     },
     "execution_count": 132,
     "metadata": {},
     "output_type": "execute_result"
    }
   ],
   "source": [
    "np.random.randint(0,5,5) # np.random.randint(a,b,c) pick up c numbers between a and b "
   ]
  },
  {
   "cell_type": "markdown",
   "id": "d705462c",
   "metadata": {},
   "source": [
    "quadratic equation"
   ]
  },
  {
   "cell_type": "code",
   "execution_count": 175,
   "id": "a83a9df3",
   "metadata": {},
   "outputs": [],
   "source": [
    "x3 = d2.iloc[:100][['bill_depth_mm']].values\n",
    "x3\n",
    "x4 = d2.iloc[:100][['bill_length_mm']].values**2"
   ]
  },
  {
   "cell_type": "code",
   "execution_count": 176,
   "id": "14a8ef86",
   "metadata": {},
   "outputs": [
    {
     "data": {
      "text/plain": [
       "array([[1528.81,   18.7 ],\n",
       "       [1560.25,   17.4 ],\n",
       "       [1624.09,   18.  ],\n",
       "       [1346.89,   19.3 ],\n",
       "       [1544.49,   20.6 ],\n",
       "       [1513.21,   17.8 ],\n",
       "       [1536.64,   19.6 ],\n",
       "       [1689.21,   17.6 ],\n",
       "       [1489.96,   21.2 ],\n",
       "       [1197.16,   21.1 ],\n",
       "       [1339.56,   17.8 ],\n",
       "       [1497.69,   19.  ],\n",
       "       [1806.25,   20.7 ],\n",
       "       [1183.36,   18.4 ],\n",
       "       [2116.  ,   21.5 ],\n",
       "       [1428.84,   18.3 ],\n",
       "       [1421.29,   18.7 ],\n",
       "       [1288.81,   19.2 ],\n",
       "       [1459.24,   18.1 ],\n",
       "       [1505.44,   17.2 ],\n",
       "       [1246.09,   18.9 ],\n",
       "       [1648.36,   18.6 ],\n",
       "       [1640.25,   17.9 ],\n",
       "       [1436.41,   18.6 ],\n",
       "       [1640.25,   18.9 ],\n",
       "       [1560.25,   16.7 ],\n",
       "       [1383.84,   18.1 ],\n",
       "       [1560.25,   17.8 ],\n",
       "       [1672.81,   18.9 ],\n",
       "       [1324.96,   17.  ],\n",
       "       [1536.64,   21.1 ],\n",
       "       [1505.44,   20.  ],\n",
       "       [1780.84,   18.5 ],\n",
       "       [1413.76,   19.3 ],\n",
       "       [1584.04,   19.1 ],\n",
       "       [1332.25,   18.  ],\n",
       "       [1664.64,   18.4 ],\n",
       "       [1296.  ,   18.5 ],\n",
       "       [1944.81,   19.7 ],\n",
       "       [1369.  ,   16.9 ],\n",
       "       [1568.16,   18.8 ],\n",
       "       [1689.21,   19.  ],\n",
       "       [1296.  ,   17.9 ],\n",
       "       [1789.29,   21.2 ],\n",
       "       [1568.16,   17.7 ],\n",
       "       [1608.01,   18.9 ],\n",
       "       [1225.  ,   17.9 ],\n",
       "       [1764.  ,   19.5 ],\n",
       "       [1190.25,   18.1 ],\n",
       "       [1713.96,   18.6 ],\n",
       "       [1521.  ,   17.5 ],\n",
       "       [1648.36,   18.8 ],\n",
       "       [1332.25,   16.6 ],\n",
       "       [1413.76,   19.1 ],\n",
       "       [1274.49,   16.9 ],\n",
       "       [1705.69,   21.1 ],\n",
       "       [1413.76,   17.  ],\n",
       "       [1689.21,   18.2 ],\n",
       "       [1324.96,   17.1 ],\n",
       "       [1730.56,   18.  ],\n",
       "       [1260.25,   16.2 ],\n",
       "       [1689.21,   19.1 ],\n",
       "       [1288.81,   16.6 ],\n",
       "       [1747.24,   19.4 ],\n",
       "       [1122.25,   19.  ],\n",
       "       [1576.09,   18.4 ],\n",
       "       [1568.16,   17.2 ],\n",
       "       [2097.64,   18.9 ],\n",
       "       [1260.25,   17.5 ],\n",
       "       [1831.84,   18.5 ],\n",
       "       [1672.81,   16.8 ],\n",
       "       [1383.84,   19.4 ],\n",
       "       [1310.44,   16.1 ],\n",
       "       [1772.41,   19.1 ],\n",
       "       [1197.16,   17.2 ],\n",
       "       [1840.41,   17.6 ],\n",
       "       [1346.89,   18.8 ],\n",
       "       [1232.01,   19.4 ],\n",
       "       [1391.29,   17.8 ],\n",
       "       [1705.69,   20.3 ],\n",
       "       [1317.69,   19.5 ],\n",
       "       [1361.61,   18.6 ],\n",
       "       [1466.89,   19.2 ],\n",
       "       [1513.21,   18.8 ],\n",
       "       [1274.49,   18.  ],\n",
       "       [1689.21,   18.1 ],\n",
       "       [1156.  ,   17.1 ],\n",
       "       [1568.16,   18.1 ],\n",
       "       [1310.44,   17.3 ],\n",
       "       [1664.64,   18.9 ],\n",
       "       [1451.61,   18.6 ],\n",
       "       [1624.09,   18.5 ],\n",
       "       [1095.61,   16.1 ],\n",
       "       [1866.24,   18.5 ],\n",
       "       [1225.  ,   17.9 ],\n",
       "       [1681.  ,   20.  ],\n",
       "       [1421.29,   16.  ],\n",
       "       [1428.84,   20.  ],\n",
       "       [1436.41,   18.6 ],\n",
       "       [1576.09,   18.9 ]])"
      ]
     },
     "execution_count": 176,
     "metadata": {},
     "output_type": "execute_result"
    }
   ],
   "source": [
    "X3 = np.column_stack((x4,x3))\n",
    "X3"
   ]
  },
  {
   "cell_type": "code",
   "execution_count": 177,
   "id": "bf544f30",
   "metadata": {},
   "outputs": [
    {
     "data": {
      "text/plain": [
       "<__main__.Percept at 0x11ffc1100>"
      ]
     },
     "execution_count": 177,
     "metadata": {},
     "output_type": "execute_result"
    }
   ],
   "source": [
    "pecp3 = Percept(epoches = 2000)\n",
    "pecp3.train(X3,y2)"
   ]
  },
  {
   "cell_type": "code",
   "execution_count": 178,
   "id": "33808803",
   "metadata": {},
   "outputs": [
    {
     "name": "stdout",
     "output_type": "stream",
     "text": [
      "[ True False False  True False False False False False False  True  True\n",
      "  True  True  True  True False  True  True  True  True  True False  True\n",
      "  True False False False  True  True False False False  True  True  True\n",
      "  True  True  True False  True  True  True  True False  True  True  True\n",
      "  True  True False  True False False  True  True False  True  True  True\n",
      "  True  True  True  True  True  True False  True  True  True False False\n",
      " False  True  True  True  True False  True  True False  True False False\n",
      "  True  True  True  True  True  True  True  True  True  True  True  True\n",
      " False False  True  True]\n"
     ]
    }
   ],
   "source": [
    "y_hat3 = pecp3.predict(X3)\n",
    "print(y_hat3 == y2)"
   ]
  },
  {
   "cell_type": "code",
   "execution_count": 179,
   "id": "52904975",
   "metadata": {},
   "outputs": [
    {
     "data": {
      "image/png": "[encoded data removed]",
      "text/plain": [
       "<Figure size 720x576 with 1 Axes>"
      ]
     },
     "metadata": {},
     "output_type": "display_data"
    }
   ],
   "source": [
    "plt.figure(figsize = (10,8))\n",
    "plot_decision_regions(X3,y2,clf=pecp3)\n",
    "plt.title(\"my first perceptron\", fontsize = 18)\n",
    "plt.xlabel(\"bill_length_mm\", fontsize = 15)\n",
    "plt.ylabel(\"bill_depth_mm\", fontsize = 15)\n",
    "plt.show()"
   ]
  },
  {
   "cell_type": "code",
   "execution_count": null,
   "id": "d7ae80c5",
   "metadata": {},
   "outputs": [],
   "source": []
  }
 ],
 "metadata": {
  "kernelspec": {
   "display_name": "Python 3",
   "language": "python",
   "name": "python3"
  },
  "language_info": {
   "codemirror_mode": {
    "name": "ipython",
    "version": 3
   },
   "file_extension": ".py",
   "mimetype": "text/x-python",
   "name": "python",
   "nbconvert_exporter": "python",
   "pygments_lexer": "ipython3",
   "version": "3.8.8"
  }
 },
 "nbformat": 4,
 "nbformat_minor": 5
}
